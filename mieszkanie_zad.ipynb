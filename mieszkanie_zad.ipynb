{
 "cells": [
  {
   "cell_type": "code",
   "execution_count": 1,
   "id": "dbadb2a0",
   "metadata": {},
   "outputs": [],
   "source": [
    "import numpy as np"
   ]
  },
  {
   "cell_type": "code",
   "execution_count": 2,
   "id": "9c3ff9d9",
   "metadata": {},
   "outputs": [],
   "source": [
    "import numpy_financial as npf"
   ]
  },
  {
   "cell_type": "markdown",
   "id": "9f2149af",
   "metadata": {},
   "source": [
    "# Dane:"
   ]
  },
  {
   "cell_type": "code",
   "execution_count": 166,
   "id": "805f9e65",
   "metadata": {},
   "outputs": [],
   "source": [
    "freq = 12\n",
    "rate = 0.05\n",
    "rate_year = 0.05\n",
    "years = 5\n",
    "apartment = 120000\n",
    "b_rate = 0.12\n",
    "b_rate /= freq\n",
    "\n",
    "\n",
    "rate /= freq  # konwersja stopy do okresu miesięcznego\n",
    "nper = years * freq  # liczba wszystkich okresów"
   ]
  },
  {
   "cell_type": "markdown",
   "id": "ae1ab094",
   "metadata": {},
   "source": [
    "# Funkcje"
   ]
  },
  {
   "cell_type": "code",
   "execution_count": 164,
   "id": "484111c7",
   "metadata": {},
   "outputs": [],
   "source": [
    "def future_apartament_price(freq,rate,years,apartament):\n",
    "    rate /= freq  # konwersja stopy do okresu miesięcznego\n",
    "    nper = years * freq  # liczba wszystkich okresów\n",
    "    periods = np.arange(1,nper+1,dtype=int) # tablica wszystkich okresów\n",
    "    fa_price = np.around(periods*apartament*rate + apartament,2) # tabela spodziewanego miesięcznego wzrostu ceny mieszkania (future apatament price)\n",
    "    print(\"Cena mieszkania za 5 lat to: \" + str(fa_price[-1])) # spodziewana cana mieszkania (ostatni okres)\n",
    "    \n",
    "    return fa_price\n",
    "    "
   ]
  },
  {
   "cell_type": "code",
   "execution_count": 191,
   "id": "bfd49c25",
   "metadata": {
    "scrolled": true
   },
   "outputs": [],
   "source": [
    "def find_monthly_rate(freq,rate,years,fa_price,rate_min,rate_max):\n",
    "    n = np.arange(rate_min,rate_max) # tworzę tablicę wartości podanych przedziałów spodziewanej miesięcznej raty\n",
    "    results_array = np.around(npf.fv(rate/freq, years*freq, -n, -n) - n)  # tworzę tablicę ostatecznej ceny mieszkania dla podanych wartość rat miesięcznych\n",
    "    comp_array = np.asarray(results_array)\n",
    "    idx = (np.abs(comp_array - fa_price)).argmin() # znajduję indeks najbliższej wartości do spodziewanej ceny mieszkania\n",
    "    if comp_array[idx] >= fa_price: # warunek aby zysk z lokaty nie był mniejszy niż cena mieszkania\n",
    "        near_value = comp_array[idx]\n",
    "    else:\n",
    "        near_value = comp_array[(idx + 1)]\n",
    "    \n",
    "    d = np.where(results_array==near_value) # indeks najlepszej raty\n",
    "    best_rate = n[d] # szukana rata\n",
    "    print(\"Aby uzyskać fundusze wartości mieszkania wg podanych parametrów wpłać miesiecznie: \" + str(best_rate))"
   ]
  },
  {
   "cell_type": "code",
   "execution_count": 198,
   "id": "320af408",
   "metadata": {},
   "outputs": [],
   "source": [
    "def invest_table(freq,rate,years,best_rate): # tworzę tabele zysku z lokaty dla szukanej wartości\n",
    "    periods = np.arange(1,nper+1,dtype=int)\n",
    "    invest_table = np.around(npf.fv(rate/freq, periods, -best_rate, -best_rate) - best_rate)\n",
    "    return invest_table"
   ]
  },
  {
   "cell_type": "markdown",
   "id": "2a805a7c",
   "metadata": {},
   "source": [
    "# Zadanie"
   ]
  },
  {
   "cell_type": "markdown",
   "id": "e568b442",
   "metadata": {},
   "source": [
    "Obliczenie przyszłej wartości mieszkania:"
   ]
  },
  {
   "cell_type": "code",
   "execution_count": 165,
   "id": "53c5f00b",
   "metadata": {
    "scrolled": false
   },
   "outputs": [
    {
     "name": "stdout",
     "output_type": "stream",
     "text": [
      "Cena mieszkania za 5 lat to: 150000.0\n"
     ]
    },
    {
     "data": {
      "text/plain": [
       "array([120500., 121000., 121500., 122000., 122500., 123000., 123500.,\n",
       "       124000., 124500., 125000., 125500., 126000., 126500., 127000.,\n",
       "       127500., 128000., 128500., 129000., 129500., 130000., 130500.,\n",
       "       131000., 131500., 132000., 132500., 133000., 133500., 134000.,\n",
       "       134500., 135000., 135500., 136000., 136500., 137000., 137500.,\n",
       "       138000., 138500., 139000., 139500., 140000., 140500., 141000.,\n",
       "       141500., 142000., 142500., 143000., 143500., 144000., 144500.,\n",
       "       145000., 145500., 146000., 146500., 147000., 147500., 148000.,\n",
       "       148500., 149000., 149500., 150000.])"
      ]
     },
     "execution_count": 165,
     "metadata": {},
     "output_type": "execute_result"
    }
   ],
   "source": [
    "future_apartament_price(12,0.05,5,120000)"
   ]
  },
  {
   "cell_type": "code",
   "execution_count": null,
   "id": "3c2867be",
   "metadata": {},
   "outputs": [],
   "source": [
    "Obliczenie miesięcznej raty wpłacanej na lokatę aby uzyskać sum równą wartości mieszkania:"
   ]
  },
  {
   "cell_type": "code",
   "execution_count": 192,
   "id": "516b1c28",
   "metadata": {},
   "outputs": [
    {
     "name": "stdout",
     "output_type": "stream",
     "text": [
      "Aby uzyskać fundusze wartości mieszkania wg podanych parametrów wpłać miesiecznie: [1819]\n"
     ]
    }
   ],
   "source": [
    "find_monthly_rate(12,0.12,5,150000,1800,1900)"
   ]
  },
  {
   "cell_type": "code",
   "execution_count": null,
   "id": "a705c694",
   "metadata": {},
   "outputs": [],
   "source": [
    "Stworzenie tablicy wzrostu odsetek na lokacie przy wpłacaniu 1819 zł miesięcznie:"
   ]
  },
  {
   "cell_type": "code",
   "execution_count": 199,
   "id": "5536ceb9",
   "metadata": {},
   "outputs": [
    {
     "data": {
      "text/plain": [
       "array([  1837.,   3693.,   5567.,   7460.,   9372.,  11302.,  13253.,\n",
       "        15222.,  17212.,  19221.,  21250.,  23300.,  25370.,  27461.,\n",
       "        29573.,  31706.,  33860.,  36036.,  38234.,  40453.,  42695.,\n",
       "        44959.,  47246.,  49555.,  51888.,  54244.,  56624.,  59027.,\n",
       "        61455.,  63906.,  66383.,  68884.,  71410.,  73961.,  76538.,\n",
       "        79140.,  81769.,  84424.,  87105.,  89814.,  92549.,  95312.,\n",
       "        98102., 100920., 103766., 106641., 109545., 112478., 115440.,\n",
       "       118431., 121453., 124504., 127587., 130700., 133844., 137019.,\n",
       "       140227., 143466., 146738., 150043.])"
      ]
     },
     "execution_count": 199,
     "metadata": {},
     "output_type": "execute_result"
    }
   ],
   "source": [
    "invest_table(12,0.12,5,1819)"
   ]
  },
  {
   "cell_type": "code",
   "execution_count": null,
   "id": "0dc6d4ef",
   "metadata": {},
   "outputs": [],
   "source": [
    "Wykres:"
   ]
  },
  {
   "cell_type": "code",
   "execution_count": 201,
   "id": "78e2ae35",
   "metadata": {},
   "outputs": [
    {
     "name": "stdout",
     "output_type": "stream",
     "text": [
      "Cena mieszkania za 5 lat to: 150000.0\n"
     ]
    },
    {
     "data": {
      "text/plain": [
       "Text(0, 0.5, 'Skumulowana wartość odsetek oraz wartość mieszkania')"
      ]
     },
     "execution_count": 201,
     "metadata": {},
     "output_type": "execute_result"
    },
    {
     "data": {
      "image/png": "[encoded data removed]",
      "text/plain": [
       "<Figure size 432x288 with 1 Axes>"
      ]
     },
     "metadata": {
      "needs_background": "light"
     },
     "output_type": "display_data"
    }
   ],
   "source": [
    "import matplotlib.pyplot as plt\n",
    "\n",
    "plt.plot(future_apartament_price(12,0.05,5,120000),label='wzrost ceny mieszkania')\n",
    "plt.plot(invest_table(12,0.12,5,1819),label='zysk z lokaty')\n",
    "plt.legend()\n",
    "plt.xlabel('Liczba okresów')\n",
    "plt.ylabel('Skumulowana wartość odsetek oraz wartość mieszkania')"
   ]
  }
 ],
 "metadata": {
  "kernelspec": {
   "display_name": "Python 3 (ipykernel)",
   "language": "python",
   "name": "python3"
  },
  "language_info": {
   "codemirror_mode": {
    "name": "ipython",
    "version": 3
   },
   "file_extension": ".py",
   "mimetype": "text/x-python",
   "name": "python",
   "nbconvert_exporter": "python",
   "pygments_lexer": "ipython3",
   "version": "3.9.7"
  }
 },
 "nbformat": 4,
 "nbformat_minor": 5
}
