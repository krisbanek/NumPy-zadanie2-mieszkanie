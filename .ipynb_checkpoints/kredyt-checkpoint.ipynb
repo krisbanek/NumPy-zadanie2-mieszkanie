{
 "cells": [
  {
   "cell_type": "code",
   "execution_count": 3,
   "id": "1b24b122",
   "metadata": {},
   "outputs": [],
   "source": [
    "import numpy as np"
   ]
  },
  {
   "cell_type": "code",
   "execution_count": 4,
   "id": "574dad1d",
   "metadata": {},
   "outputs": [],
   "source": [
    "freq = 12\n",
    "rate = 0.0675\n",
    "years = 30\n",
    "pv = 200000\n",
    "\n",
    "rate /= freq  # konwersja stopy do okresu miesięcznego\n",
    "nper = years * freq  # liczba wszystkich okresów"
   ]
  },
  {
   "cell_type": "code",
   "execution_count": 5,
   "id": "d4bdfa49",
   "metadata": {},
   "outputs": [
    {
     "data": {
      "text/plain": [
       "0.005625000000000001"
      ]
     },
     "execution_count": 5,
     "metadata": {},
     "output_type": "execute_result"
    }
   ],
   "source": [
    "rate"
   ]
  },
  {
   "cell_type": "code",
   "execution_count": 19,
   "id": "444f0be0",
   "metadata": {},
   "outputs": [
    {
     "data": {
      "text/plain": [
       "array([  1,   2,   3,   4,   5,   6,   7,   8,   9,  10,  11,  12,  13,\n",
       "        14,  15,  16,  17,  18,  19,  20,  21,  22,  23,  24,  25,  26,\n",
       "        27,  28,  29,  30,  31,  32,  33,  34,  35,  36,  37,  38,  39,\n",
       "        40,  41,  42,  43,  44,  45,  46,  47,  48,  49,  50,  51,  52,\n",
       "        53,  54,  55,  56,  57,  58,  59,  60,  61,  62,  63,  64,  65,\n",
       "        66,  67,  68,  69,  70,  71,  72,  73,  74,  75,  76,  77,  78,\n",
       "        79,  80,  81,  82,  83,  84,  85,  86,  87,  88,  89,  90,  91,\n",
       "        92,  93,  94,  95,  96,  97,  98,  99, 100, 101, 102, 103, 104,\n",
       "       105, 106, 107, 108, 109, 110, 111, 112, 113, 114, 115, 116, 117,\n",
       "       118, 119, 120, 121, 122, 123, 124, 125, 126, 127, 128, 129, 130,\n",
       "       131, 132, 133, 134, 135, 136, 137, 138, 139, 140, 141, 142, 143,\n",
       "       144, 145, 146, 147, 148, 149, 150, 151, 152, 153, 154, 155, 156,\n",
       "       157, 158, 159, 160, 161, 162, 163, 164, 165, 166, 167, 168, 169,\n",
       "       170, 171, 172, 173, 174, 175, 176, 177, 178, 179, 180, 181, 182,\n",
       "       183, 184, 185, 186, 187, 188, 189, 190, 191, 192, 193, 194, 195,\n",
       "       196, 197, 198, 199, 200, 201, 202, 203, 204, 205, 206, 207, 208,\n",
       "       209, 210, 211, 212, 213, 214, 215, 216, 217, 218, 219, 220, 221,\n",
       "       222, 223, 224, 225, 226, 227, 228, 229, 230, 231, 232, 233, 234,\n",
       "       235, 236, 237, 238, 239, 240, 241, 242, 243, 244, 245, 246, 247,\n",
       "       248, 249, 250, 251, 252, 253, 254, 255, 256, 257, 258, 259, 260,\n",
       "       261, 262, 263, 264, 265, 266, 267, 268, 269, 270, 271, 272, 273,\n",
       "       274, 275, 276, 277, 278, 279, 280, 281, 282, 283, 284, 285, 286,\n",
       "       287, 288, 289, 290, 291, 292, 293, 294, 295, 296, 297, 298, 299,\n",
       "       300, 301, 302, 303, 304, 305, 306, 307, 308, 309, 310, 311, 312,\n",
       "       313, 314, 315, 316, 317, 318, 319, 320, 321, 322, 323, 324, 325,\n",
       "       326, 327, 328, 329, 330, 331, 332, 333, 334, 335, 336, 337, 338,\n",
       "       339, 340, 341, 342, 343, 344, 345, 346, 347, 348, 349, 350, 351,\n",
       "       352, 353, 354, 355, 356, 357, 358, 359, 360])"
      ]
     },
     "execution_count": 19,
     "metadata": {},
     "output_type": "execute_result"
    }
   ],
   "source": [
    "periods = np.arange(1,nper+1,dtype=int)\n",
    "periods"
   ]
  },
  {
   "cell_type": "code",
   "execution_count": 8,
   "id": "aca63ddf",
   "metadata": {},
   "outputs": [
    {
     "name": "stdout",
     "output_type": "stream",
     "text": [
      "\n",
      "Note: you may need to restart the kernel to use updated packages.\n"
     ]
    }
   ],
   "source": [
    "\n",
    "conda install -c anaconda numpy-financial"
   ]
  },
  {
   "cell_type": "code",
   "execution_count": 2,
   "id": "c1b413f4",
   "metadata": {},
   "outputs": [
    {
     "name": "stdout",
     "output_type": "stream",
     "text": [
      "Collecting numpy-financial\n",
      "  Downloading numpy_financial-1.0.0-py3-none-any.whl (14 kB)\n",
      "Requirement already satisfied: numpy>=1.15 in c:\\users\\dell\\anaconda3\\lib\\site-packages (from numpy-financial) (1.20.3)\n",
      "Installing collected packages: numpy-financial\n",
      "Successfully installed numpy-financial-1.0.0\n",
      "Note: you may need to restart the kernel to use updated packages.\n"
     ]
    }
   ],
   "source": [
    "pip install numpy-financial"
   ]
  },
  {
   "cell_type": "code",
   "execution_count": 7,
   "id": "e4fcc641",
   "metadata": {},
   "outputs": [],
   "source": [
    "import numpy_financial as npf"
   ]
  },
  {
   "cell_type": "code",
   "execution_count": 20,
   "id": "05e38055",
   "metadata": {},
   "outputs": [
    {
     "data": {
      "text/plain": [
       "array([1125.  , 1124.03, 1123.06, 1122.08, 1121.09, 1120.1 , 1119.11,\n",
       "       1118.1 , 1117.1 , 1116.08, 1115.07, 1114.04, 1113.01, 1111.97,\n",
       "       1110.93, 1109.88, 1108.83, 1107.77, 1106.71, 1105.63, 1104.56,\n",
       "       1103.47, 1102.38, 1101.29, 1100.19, 1099.08, 1097.96, 1096.84,\n",
       "       1095.72, 1094.58, 1093.44, 1092.3 , 1091.14, 1089.98, 1088.82,\n",
       "       1087.65, 1086.47, 1085.28, 1084.09, 1082.89, 1081.69, 1080.47,\n",
       "       1079.26, 1078.03, 1076.8 , 1075.56, 1074.31, 1073.06, 1071.8 ,\n",
       "       1070.53, 1069.25, 1067.97, 1066.68, 1065.38, 1064.08, 1062.77,\n",
       "       1061.45, 1060.12, 1058.79, 1057.45, 1056.1 , 1054.75, 1053.38,\n",
       "       1052.01, 1050.63, 1049.24, 1047.85, 1046.45, 1045.04, 1043.62,\n",
       "       1042.19, 1040.76, 1039.31, 1037.86, 1036.41, 1034.94, 1033.46,\n",
       "       1031.98, 1030.49, 1028.99, 1027.48, 1025.96, 1024.44, 1022.9 ,\n",
       "       1021.36, 1019.81, 1018.25, 1016.68, 1015.1 , 1013.51, 1011.92,\n",
       "       1010.31, 1008.7 , 1007.08, 1005.44, 1003.8 , 1002.15, 1000.49,\n",
       "        998.82,  997.15,  995.46,  993.76,  992.05,  990.34,  988.61,\n",
       "        986.88,  985.13,  983.38,  981.61,  979.83,  978.05,  976.25,\n",
       "        974.45,  972.63,  970.81,  968.97,  967.13,  965.27,  963.4 ,\n",
       "        961.52,  959.64,  957.74,  955.83,  953.91,  951.98,  950.03,\n",
       "        948.08,  946.12,  944.14,  942.16,  940.16,  938.15,  936.13,\n",
       "        934.1 ,  932.06,  930.01,  927.94,  925.86,  923.77,  921.67,\n",
       "        919.56,  917.44,  915.3 ,  913.15,  910.99,  908.82,  906.64,\n",
       "        904.44,  902.23,  900.01,  897.77,  895.53,  893.27,  891.  ,\n",
       "        888.71,  886.41,  884.1 ,  881.78,  879.44,  877.09,  874.73,\n",
       "        872.35,  869.96,  867.56,  865.14,  862.71,  860.27,  857.81,\n",
       "        855.34,  852.85,  850.35,  847.84,  845.31,  842.77,  840.22,\n",
       "        837.64,  835.06,  832.46,  829.85,  827.22,  824.57,  821.91,\n",
       "        819.24,  816.55,  813.85,  811.13,  808.4 ,  805.65,  802.88,\n",
       "        800.1 ,  797.31,  794.49,  791.67,  788.82,  785.96,  783.09,\n",
       "        780.19,  777.29,  774.36,  771.42,  768.46,  765.49,  762.5 ,\n",
       "        759.49,  756.47,  753.43,  750.37,  747.29,  744.2 ,  741.09,\n",
       "        737.96,  734.81,  731.65,  728.47,  725.27,  722.05,  718.82,\n",
       "        715.56,  712.29,  709.  ,  705.69,  702.37,  699.02,  695.66,\n",
       "        692.27,  688.87,  685.45,  682.01,  678.55,  675.07,  671.57,\n",
       "        668.05,  664.51,  660.95,  657.37,  653.77,  650.15,  646.51,\n",
       "        642.85,  639.17,  635.47,  631.75,  628.  ,  624.24,  620.46,\n",
       "        616.65,  612.82,  608.97,  605.1 ,  601.21,  597.29,  593.35,\n",
       "        589.4 ,  585.41,  581.41,  577.38,  573.34,  569.26,  565.17,\n",
       "        561.05,  556.91,  552.75,  548.56,  544.35,  540.11,  535.85,\n",
       "        531.57,  527.26,  522.93,  518.58,  514.2 ,  509.79,  505.37,\n",
       "        500.91,  496.43,  491.93,  487.4 ,  482.84,  478.26,  473.66,\n",
       "        469.02,  464.37,  459.68,  454.97,  450.23,  445.47,  440.68,\n",
       "        435.86,  431.01,  426.14,  421.24,  416.31,  411.36,  406.38,\n",
       "        401.37,  396.33,  391.26,  386.16,  381.04,  375.89,  370.7 ,\n",
       "        365.49,  360.25,  354.98,  349.68,  344.35,  338.99,  333.6 ,\n",
       "        328.18,  322.73,  317.25,  311.74,  306.19,  300.62,  295.01,\n",
       "        289.38,  283.71,  278.01,  272.27,  266.51,  260.71,  254.88,\n",
       "        249.02,  243.12,  237.19,  231.23,  225.23,  219.2 ,  213.14,\n",
       "        207.04,  200.91,  194.74,  188.54,  182.31,  176.03,  169.73,\n",
       "        163.39,  157.01,  150.6 ,  144.15,  137.66,  131.14,  124.58,\n",
       "        117.98,  111.35,  104.68,   97.97,   91.23,   84.44,   77.62,\n",
       "         70.76,   63.86,   56.92,   49.95,   42.93,   35.88,   28.78,\n",
       "         21.65,   14.47,    7.26])"
      ]
     },
     "execution_count": 20,
     "metadata": {},
     "output_type": "execute_result"
    }
   ],
   "source": [
    "interest_equal = - np.around(npf.ipmt(rate,periods,nper,pv),2)\n",
    "interest_equal[:360]"
   ]
  },
  {
   "cell_type": "code",
   "execution_count": 22,
   "id": "51e9083f",
   "metadata": {},
   "outputs": [
    {
     "data": {
      "text/plain": [
       "array([555.56, 555.56, 555.56, 555.56, 555.56, 555.56, 555.56, 555.56,\n",
       "       555.56, 555.56])"
      ]
     },
     "execution_count": 22,
     "metadata": {},
     "output_type": "execute_result"
    }
   ],
   "source": [
    "np.set_printoptions(suppress=True)\n",
    "\n",
    "principal_decreasing = np.around(np.zeros(nper)+(pv/nper),2)\n",
    "principal_decreasing[:10]"
   ]
  },
  {
   "cell_type": "code",
   "execution_count": 24,
   "id": "78c3a7f1",
   "metadata": {},
   "outputs": [
    {
     "data": {
      "text/plain": [
       "array([199444.44, 198888.88, 198333.32, 197777.76, 197222.2 , 196666.64,\n",
       "       196111.08, 195555.52, 194999.96, 194444.4 , 193888.84, 193333.28,\n",
       "       192777.72, 192222.16, 191666.6 , 191111.04, 190555.48, 189999.92,\n",
       "       189444.36, 188888.8 , 188333.24, 187777.68, 187222.12, 186666.56,\n",
       "       186111.  , 185555.44, 184999.88, 184444.32, 183888.76, 183333.2 ,\n",
       "       182777.64, 182222.08, 181666.52, 181110.96, 180555.4 , 179999.84,\n",
       "       179444.28, 178888.72, 178333.16, 177777.6 , 177222.04, 176666.48,\n",
       "       176110.92, 175555.36, 174999.8 , 174444.24, 173888.68, 173333.12,\n",
       "       172777.56, 172222.  , 171666.44, 171110.88, 170555.32, 169999.76,\n",
       "       169444.2 , 168888.64, 168333.08, 167777.52, 167221.96, 166666.4 ,\n",
       "       166110.84, 165555.28, 164999.72, 164444.16, 163888.6 , 163333.04,\n",
       "       162777.48, 162221.92, 161666.36, 161110.8 , 160555.24, 159999.68,\n",
       "       159444.12, 158888.56, 158333.  , 157777.44, 157221.88, 156666.32,\n",
       "       156110.76, 155555.2 , 154999.64, 154444.08, 153888.52, 153332.96,\n",
       "       152777.4 , 152221.84, 151666.28, 151110.72, 150555.16, 149999.6 ,\n",
       "       149444.04, 148888.48, 148332.92, 147777.36, 147221.8 , 146666.24,\n",
       "       146110.68, 145555.12, 144999.56, 144444.  , 143888.44, 143332.88,\n",
       "       142777.32, 142221.76, 141666.2 , 141110.64, 140555.08, 139999.52,\n",
       "       139443.96, 138888.4 , 138332.84, 137777.28, 137221.72, 136666.16,\n",
       "       136110.6 , 135555.04, 134999.48, 134443.92, 133888.36, 133332.8 ,\n",
       "       132777.24, 132221.68, 131666.12, 131110.56, 130555.  , 129999.44,\n",
       "       129443.88, 128888.32, 128332.76, 127777.2 , 127221.64, 126666.08,\n",
       "       126110.52, 125554.96, 124999.4 , 124443.84, 123888.28, 123332.72,\n",
       "       122777.16, 122221.6 , 121666.04, 121110.48, 120554.92, 119999.36,\n",
       "       119443.8 , 118888.24, 118332.68, 117777.12, 117221.56, 116666.  ,\n",
       "       116110.44, 115554.88, 114999.32, 114443.76, 113888.2 , 113332.64,\n",
       "       112777.08, 112221.52, 111665.96, 111110.4 , 110554.84, 109999.28,\n",
       "       109443.72, 108888.16, 108332.6 , 107777.04, 107221.48, 106665.92,\n",
       "       106110.36, 105554.8 , 104999.24, 104443.68, 103888.12, 103332.56,\n",
       "       102777.  , 102221.44, 101665.88, 101110.32, 100554.76,  99999.2 ,\n",
       "        99443.64,  98888.08,  98332.52,  97776.96,  97221.4 ,  96665.84,\n",
       "        96110.28,  95554.72,  94999.16,  94443.6 ,  93888.04,  93332.48,\n",
       "        92776.92,  92221.36,  91665.8 ,  91110.24,  90554.68,  89999.12,\n",
       "        89443.56,  88888.  ,  88332.44,  87776.88,  87221.32,  86665.76,\n",
       "        86110.2 ,  85554.64,  84999.08,  84443.52,  83887.96,  83332.4 ,\n",
       "        82776.84,  82221.28,  81665.72,  81110.16,  80554.6 ,  79999.04,\n",
       "        79443.48,  78887.92,  78332.36,  77776.8 ,  77221.24,  76665.68,\n",
       "        76110.12,  75554.56,  74999.  ,  74443.44,  73887.88,  73332.32,\n",
       "        72776.76,  72221.2 ,  71665.64,  71110.08,  70554.52,  69998.96,\n",
       "        69443.4 ,  68887.84,  68332.28,  67776.72,  67221.16,  66665.6 ,\n",
       "        66110.04,  65554.48,  64998.92,  64443.36,  63887.8 ,  63332.24,\n",
       "        62776.68,  62221.12,  61665.56,  61110.  ,  60554.44,  59998.88,\n",
       "        59443.32,  58887.76,  58332.2 ,  57776.64,  57221.08,  56665.52,\n",
       "        56109.96,  55554.4 ,  54998.84,  54443.28,  53887.72,  53332.16,\n",
       "        52776.6 ,  52221.04,  51665.48,  51109.92,  50554.36,  49998.8 ,\n",
       "        49443.24,  48887.68,  48332.12,  47776.56,  47221.  ,  46665.44,\n",
       "        46109.88,  45554.32,  44998.76,  44443.2 ,  43887.64,  43332.08,\n",
       "        42776.52,  42220.96,  41665.4 ,  41109.84,  40554.28,  39998.72,\n",
       "        39443.16,  38887.6 ,  38332.04,  37776.48,  37220.92,  36665.36,\n",
       "        36109.8 ,  35554.24,  34998.68,  34443.12,  33887.56,  33332.  ,\n",
       "        32776.44,  32220.88,  31665.32,  31109.76,  30554.2 ,  29998.64,\n",
       "        29443.08,  28887.52,  28331.96,  27776.4 ,  27220.84,  26665.28,\n",
       "        26109.72,  25554.16,  24998.6 ,  24443.04,  23887.48,  23331.92,\n",
       "        22776.36,  22220.8 ,  21665.24,  21109.68,  20554.12,  19998.56,\n",
       "        19443.  ,  18887.44,  18331.88,  17776.32,  17220.76,  16665.2 ,\n",
       "        16109.64,  15554.08,  14998.52,  14442.96,  13887.4 ,  13331.84,\n",
       "        12776.28,  12220.72,  11665.16,  11109.6 ,  10554.04,   9998.48,\n",
       "         9442.92,   8887.36,   8331.8 ,   7776.24,   7220.68,   6665.12,\n",
       "         6109.56,   5554.  ,   4998.44,   4442.88,   3887.32,   3331.76,\n",
       "         2776.2 ,   2220.64,   1665.08,   1109.52,    553.96,     -1.6 ])"
      ]
     },
     "execution_count": 24,
     "metadata": {},
     "output_type": "execute_result"
    }
   ],
   "source": [
    "balance = np.zeros(nper) + pv\n",
    "balance\n",
    "balance_close = np.around(balance - np.cumsum(principal_decreasing),2)\n",
    "balance_close"
   ]
  },
  {
   "cell_type": "code",
   "execution_count": 26,
   "id": "18cf8047",
   "metadata": {},
   "outputs": [
    {
     "data": {
      "text/plain": [
       "array([   555.56,   1111.12,   1666.68,   2222.24,   2777.8 ,   3333.36,\n",
       "         3888.92,   4444.48,   5000.04,   5555.6 ,   6111.16,   6666.72,\n",
       "         7222.28,   7777.84,   8333.4 ,   8888.96,   9444.52,  10000.08,\n",
       "        10555.64,  11111.2 ,  11666.76,  12222.32,  12777.88,  13333.44,\n",
       "        13889.  ,  14444.56,  15000.12,  15555.68,  16111.24,  16666.8 ,\n",
       "        17222.36,  17777.92,  18333.48,  18889.04,  19444.6 ,  20000.16,\n",
       "        20555.72,  21111.28,  21666.84,  22222.4 ,  22777.96,  23333.52,\n",
       "        23889.08,  24444.64,  25000.2 ,  25555.76,  26111.32,  26666.88,\n",
       "        27222.44,  27778.  ,  28333.56,  28889.12,  29444.68,  30000.24,\n",
       "        30555.8 ,  31111.36,  31666.92,  32222.48,  32778.04,  33333.6 ,\n",
       "        33889.16,  34444.72,  35000.28,  35555.84,  36111.4 ,  36666.96,\n",
       "        37222.52,  37778.08,  38333.64,  38889.2 ,  39444.76,  40000.32,\n",
       "        40555.88,  41111.44,  41667.  ,  42222.56,  42778.12,  43333.68,\n",
       "        43889.24,  44444.8 ,  45000.36,  45555.92,  46111.48,  46667.04,\n",
       "        47222.6 ,  47778.16,  48333.72,  48889.28,  49444.84,  50000.4 ,\n",
       "        50555.96,  51111.52,  51667.08,  52222.64,  52778.2 ,  53333.76,\n",
       "        53889.32,  54444.88,  55000.44,  55556.  ,  56111.56,  56667.12,\n",
       "        57222.68,  57778.24,  58333.8 ,  58889.36,  59444.92,  60000.48,\n",
       "        60556.04,  61111.6 ,  61667.16,  62222.72,  62778.28,  63333.84,\n",
       "        63889.4 ,  64444.96,  65000.52,  65556.08,  66111.64,  66667.2 ,\n",
       "        67222.76,  67778.32,  68333.88,  68889.44,  69445.  ,  70000.56,\n",
       "        70556.12,  71111.68,  71667.24,  72222.8 ,  72778.36,  73333.92,\n",
       "        73889.48,  74445.04,  75000.6 ,  75556.16,  76111.72,  76667.28,\n",
       "        77222.84,  77778.4 ,  78333.96,  78889.52,  79445.08,  80000.64,\n",
       "        80556.2 ,  81111.76,  81667.32,  82222.88,  82778.44,  83334.  ,\n",
       "        83889.56,  84445.12,  85000.68,  85556.24,  86111.8 ,  86667.36,\n",
       "        87222.92,  87778.48,  88334.04,  88889.6 ,  89445.16,  90000.72,\n",
       "        90556.28,  91111.84,  91667.4 ,  92222.96,  92778.52,  93334.08,\n",
       "        93889.64,  94445.2 ,  95000.76,  95556.32,  96111.88,  96667.44,\n",
       "        97223.  ,  97778.56,  98334.12,  98889.68,  99445.24, 100000.8 ,\n",
       "       100556.36, 101111.92, 101667.48, 102223.04, 102778.6 , 103334.16,\n",
       "       103889.72, 104445.28, 105000.84, 105556.4 , 106111.96, 106667.52,\n",
       "       107223.08, 107778.64, 108334.2 , 108889.76, 109445.32, 110000.88,\n",
       "       110556.44, 111112.  , 111667.56, 112223.12, 112778.68, 113334.24,\n",
       "       113889.8 , 114445.36, 115000.92, 115556.48, 116112.04, 116667.6 ,\n",
       "       117223.16, 117778.72, 118334.28, 118889.84, 119445.4 , 120000.96,\n",
       "       120556.52, 121112.08, 121667.64, 122223.2 , 122778.76, 123334.32,\n",
       "       123889.88, 124445.44, 125001.  , 125556.56, 126112.12, 126667.68,\n",
       "       127223.24, 127778.8 , 128334.36, 128889.92, 129445.48, 130001.04,\n",
       "       130556.6 , 131112.16, 131667.72, 132223.28, 132778.84, 133334.4 ,\n",
       "       133889.96, 134445.52, 135001.08, 135556.64, 136112.2 , 136667.76,\n",
       "       137223.32, 137778.88, 138334.44, 138890.  , 139445.56, 140001.12,\n",
       "       140556.68, 141112.24, 141667.8 , 142223.36, 142778.92, 143334.48,\n",
       "       143890.04, 144445.6 , 145001.16, 145556.72, 146112.28, 146667.84,\n",
       "       147223.4 , 147778.96, 148334.52, 148890.08, 149445.64, 150001.2 ,\n",
       "       150556.76, 151112.32, 151667.88, 152223.44, 152779.  , 153334.56,\n",
       "       153890.12, 154445.68, 155001.24, 155556.8 , 156112.36, 156667.92,\n",
       "       157223.48, 157779.04, 158334.6 , 158890.16, 159445.72, 160001.28,\n",
       "       160556.84, 161112.4 , 161667.96, 162223.52, 162779.08, 163334.64,\n",
       "       163890.2 , 164445.76, 165001.32, 165556.88, 166112.44, 166668.  ,\n",
       "       167223.56, 167779.12, 168334.68, 168890.24, 169445.8 , 170001.36,\n",
       "       170556.92, 171112.48, 171668.04, 172223.6 , 172779.16, 173334.72,\n",
       "       173890.28, 174445.84, 175001.4 , 175556.96, 176112.52, 176668.08,\n",
       "       177223.64, 177779.2 , 178334.76, 178890.32, 179445.88, 180001.44,\n",
       "       180557.  , 181112.56, 181668.12, 182223.68, 182779.24, 183334.8 ,\n",
       "       183890.36, 184445.92, 185001.48, 185557.04, 186112.6 , 186668.16,\n",
       "       187223.72, 187779.28, 188334.84, 188890.4 , 189445.96, 190001.52,\n",
       "       190557.08, 191112.64, 191668.2 , 192223.76, 192779.32, 193334.88,\n",
       "       193890.44, 194446.  , 195001.56, 195557.12, 196112.68, 196668.24,\n",
       "       197223.8 , 197779.36, 198334.92, 198890.48, 199446.04, 200001.6 ])"
      ]
     },
     "execution_count": 26,
     "metadata": {},
     "output_type": "execute_result"
    }
   ],
   "source": [
    "np.cumsum(principal_decreasing)"
   ]
  },
  {
   "cell_type": "code",
   "execution_count": 12,
   "id": "dc221b26",
   "metadata": {},
   "outputs": [],
   "source": [
    "balance_open = balance_close + principal_decreasing"
   ]
  },
  {
   "cell_type": "code",
   "execution_count": null,
   "id": "76ef4ad3",
   "metadata": {},
   "outputs": [],
   "source": []
  },
  {
   "cell_type": "code",
   "execution_count": 13,
   "id": "4151982b",
   "metadata": {},
   "outputs": [
    {
     "data": {
      "text/plain": [
       "array([1125.  , 1121.87, 1118.75, 1115.62, 1112.5 , 1109.37, 1106.25,\n",
       "       1103.12, 1100.  , 1096.87])"
      ]
     },
     "execution_count": 13,
     "metadata": {},
     "output_type": "execute_result"
    }
   ],
   "source": [
    "interest_decreasing = np.around(balance_open * rate,2)\n",
    "interest_decreasing[:10]"
   ]
  },
  {
   "cell_type": "code",
   "execution_count": 14,
   "id": "cc959778",
   "metadata": {},
   "outputs": [
    {
     "name": "stdout",
     "output_type": "stream",
     "text": [
      "Wartość odsetek do zapłaty w wariancie kredytu w równych ratach wynosi: 266990.60\n",
      "Wartość odsetek do zapłaty w wariancie kredytu w ratach malejących wynosi: 203060.81\n"
     ]
    }
   ],
   "source": [
    "print(\"Wartość odsetek do zapłaty w wariancie kredytu w równych ratach wynosi: \" + str(\"{:.2f}\".format(interest_equal.sum())))\n",
    "print(\"Wartość odsetek do zapłaty w wariancie kredytu w ratach malejących wynosi: \" + str(\"{:.2f}\".format(interest_decreasing.sum())))"
   ]
  },
  {
   "cell_type": "code",
   "execution_count": 15,
   "id": "48794a73",
   "metadata": {},
   "outputs": [
    {
     "data": {
      "text/plain": [
       "Text(0, 0.5, 'Skumulowana wartość odsetek')"
      ]
     },
     "execution_count": 15,
     "metadata": {},
     "output_type": "execute_result"
    },
    {
     "data": {
      "image/png": "[encoded data removed]",
      "text/plain": [
       "<Figure size 432x288 with 1 Axes>"
      ]
     },
     "metadata": {
      "needs_background": "light"
     },
     "output_type": "display_data"
    }
   ],
   "source": [
    "import matplotlib.pyplot as plt\n",
    "\n",
    "plt.plot(interest_equal.cumsum(),label='raty równe')\n",
    "plt.plot(interest_decreasing.cumsum(),label='raty malejące')\n",
    "plt.legend()\n",
    "plt.xlabel('Liczba okresów')\n",
    "plt.ylabel('Skumulowana wartość odsetek')"
   ]
  }
 ],
 "metadata": {
  "kernelspec": {
   "display_name": "Python 3 (ipykernel)",
   "language": "python",
   "name": "python3"
  },
  "language_info": {
   "codemirror_mode": {
    "name": "ipython",
    "version": 3
   },
   "file_extension": ".py",
   "mimetype": "text/x-python",
   "name": "python",
   "nbconvert_exporter": "python",
   "pygments_lexer": "ipython3",
   "version": "3.9.7"
  }
 },
 "nbformat": 4,
 "nbformat_minor": 5
}
